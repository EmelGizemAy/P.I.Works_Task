{
 "cells": [
  {
   "cell_type": "markdown",
   "id": "ffe4a8e8",
   "metadata": {},
   "source": [
    "## Importing the required libraries"
   ]
  },
  {
   "cell_type": "code",
   "execution_count": 1,
   "id": "33164f07",
   "metadata": {},
   "outputs": [],
   "source": [
    "import pandas as pd\n",
    "import numpy as np \n",
    "import seaborn as sns\n",
    "import matplotlib.pyplot as plt"
   ]
  },
  {
   "cell_type": "markdown",
   "id": "fa76be44",
   "metadata": {},
   "source": [
    "### Read the data\n"
   ]
  },
  {
   "cell_type": "code",
   "execution_count": 2,
   "id": "d895d5ea",
   "metadata": {},
   "outputs": [
    {
     "data": {
      "text/html": [
       "<div>\n",
       "<style scoped>\n",
       "    .dataframe tbody tr th:only-of-type {\n",
       "        vertical-align: middle;\n",
       "    }\n",
       "\n",
       "    .dataframe tbody tr th {\n",
       "        vertical-align: top;\n",
       "    }\n",
       "\n",
       "    .dataframe thead th {\n",
       "        text-align: right;\n",
       "    }\n",
       "</style>\n",
       "<table border=\"1\" class=\"dataframe\">\n",
       "  <thead>\n",
       "    <tr style=\"text-align: right;\">\n",
       "      <th></th>\n",
       "      <th>country</th>\n",
       "      <th>date</th>\n",
       "      <th>daily_vaccinations</th>\n",
       "      <th>vaccines</th>\n",
       "    </tr>\n",
       "  </thead>\n",
       "  <tbody>\n",
       "    <tr>\n",
       "      <th>0</th>\n",
       "      <td>Argentina</td>\n",
       "      <td>12/29/2020</td>\n",
       "      <td>NaN</td>\n",
       "      <td>Sputnik V</td>\n",
       "    </tr>\n",
       "    <tr>\n",
       "      <th>1</th>\n",
       "      <td>Argentina</td>\n",
       "      <td>12/30/2020</td>\n",
       "      <td>15656.0</td>\n",
       "      <td>Sputnik V</td>\n",
       "    </tr>\n",
       "    <tr>\n",
       "      <th>2</th>\n",
       "      <td>Argentina</td>\n",
       "      <td>12/31/2020</td>\n",
       "      <td>15656.0</td>\n",
       "      <td>Sputnik V</td>\n",
       "    </tr>\n",
       "    <tr>\n",
       "      <th>3</th>\n",
       "      <td>Argentina</td>\n",
       "      <td>1/1/2021</td>\n",
       "      <td>11070.0</td>\n",
       "      <td>Sputnik V</td>\n",
       "    </tr>\n",
       "    <tr>\n",
       "      <th>4</th>\n",
       "      <td>Argentina</td>\n",
       "      <td>1/2/2021</td>\n",
       "      <td>8776.0</td>\n",
       "      <td>Sputnik V</td>\n",
       "    </tr>\n",
       "    <tr>\n",
       "      <th>5</th>\n",
       "      <td>Argentina</td>\n",
       "      <td>1/3/2021</td>\n",
       "      <td>7400.0</td>\n",
       "      <td>Sputnik V</td>\n",
       "    </tr>\n",
       "    <tr>\n",
       "      <th>6</th>\n",
       "      <td>Argentina</td>\n",
       "      <td>1/4/2021</td>\n",
       "      <td>6483.0</td>\n",
       "      <td>Sputnik V</td>\n",
       "    </tr>\n",
       "    <tr>\n",
       "      <th>7</th>\n",
       "      <td>Argentina</td>\n",
       "      <td>1/5/2021</td>\n",
       "      <td>7984.0</td>\n",
       "      <td>Sputnik V</td>\n",
       "    </tr>\n",
       "    <tr>\n",
       "      <th>8</th>\n",
       "      <td>Argentina</td>\n",
       "      <td>1/6/2021</td>\n",
       "      <td>8173.0</td>\n",
       "      <td>Sputnik V</td>\n",
       "    </tr>\n",
       "    <tr>\n",
       "      <th>9</th>\n",
       "      <td>Argentina</td>\n",
       "      <td>1/7/2021</td>\n",
       "      <td>8363.0</td>\n",
       "      <td>Sputnik V</td>\n",
       "    </tr>\n",
       "  </tbody>\n",
       "</table>\n",
       "</div>"
      ],
      "text/plain": [
       "     country        date  daily_vaccinations   vaccines\n",
       "0  Argentina  12/29/2020                 NaN  Sputnik V\n",
       "1  Argentina  12/30/2020             15656.0  Sputnik V\n",
       "2  Argentina  12/31/2020             15656.0  Sputnik V\n",
       "3  Argentina    1/1/2021             11070.0  Sputnik V\n",
       "4  Argentina    1/2/2021              8776.0  Sputnik V\n",
       "5  Argentina    1/3/2021              7400.0  Sputnik V\n",
       "6  Argentina    1/4/2021              6483.0  Sputnik V\n",
       "7  Argentina    1/5/2021              7984.0  Sputnik V\n",
       "8  Argentina    1/6/2021              8173.0  Sputnik V\n",
       "9  Argentina    1/7/2021              8363.0  Sputnik V"
      ]
     },
     "execution_count": 2,
     "metadata": {},
     "output_type": "execute_result"
    }
   ],
   "source": [
    "df = pd.read_csv(\"country_vaccination_stats.csv\")\n",
    "df.head(10)"
   ]
  },
  {
   "cell_type": "code",
   "execution_count": 4,
   "id": "df713127",
   "metadata": {},
   "outputs": [
    {
     "data": {
      "text/plain": [
       "country                0\n",
       "date                   0\n",
       "daily_vaccinations    60\n",
       "vaccines               0\n",
       "dtype: int64"
      ]
     },
     "execution_count": 4,
     "metadata": {},
     "output_type": "execute_result"
    }
   ],
   "source": [
    "# checking missing data \n",
    "df.isnull().sum()"
   ]
  },
  {
   "cell_type": "code",
   "execution_count": 3,
   "id": "e2d94584",
   "metadata": {},
   "outputs": [
    {
     "data": {
      "text/plain": [
       "60"
      ]
     },
     "execution_count": 3,
     "metadata": {},
     "output_type": "execute_result"
    }
   ],
   "source": [
    "# Finding the unique country count in dataset\n",
    "len(df.country.value_counts())"
   ]
  },
  {
   "cell_type": "code",
   "execution_count": 6,
   "id": "2fff2877",
   "metadata": {},
   "outputs": [
    {
     "data": {
      "text/plain": [
       "60"
      ]
     },
     "execution_count": 6,
     "metadata": {},
     "output_type": "execute_result"
    }
   ],
   "source": [
    "# Finding the missing data in how many different countries\n",
    "len(df[df[\"daily_vaccinations\"].isna()][\"country\"].value_counts())"
   ]
  },
  {
   "cell_type": "markdown",
   "id": "5d57a3e6",
   "metadata": {},
   "source": [
    "### Question-4 "
   ]
  },
  {
   "cell_type": "code",
   "execution_count": 109,
   "id": "da52aa98",
   "metadata": {},
   "outputs": [
    {
     "data": {
      "text/plain": [
       "country\n",
       "Argentina    6483.0\n",
       "Austria      3368.0\n",
       "Bahrain       943.0\n",
       "Belgium         1.0\n",
       "Brazil        112.0\n",
       "Name: daily_vaccinations, dtype: float64"
      ]
     },
     "execution_count": 109,
     "metadata": {},
     "output_type": "execute_result"
    }
   ],
   "source": [
    "# group the data by country and calculate the minimum daily vaccination number for each country \n",
    "country_min_vaccinations = df.groupby('country')['daily_vaccinations'].min()\n",
    "country_min_vaccinations.head()"
   ]
  },
  {
   "cell_type": "code",
   "execution_count": 110,
   "id": "d0d3e2f2",
   "metadata": {},
   "outputs": [],
   "source": [
    "# fill the missing data (impute) in daily_vaccinations column per country with the minimum daily vaccination number of relevant countries.   \n",
    "for i in country_min_vaccinations.index:\n",
    "    nan_indexes = df[(df[\"country\"]==i)&(df[\"daily_vaccinations\"].isna())].index\n",
    "    df.loc[nan_indexes,\"daily_vaccinations\"] = country_min_vaccinations[i]"
   ]
  },
  {
   "cell_type": "code",
   "execution_count": 116,
   "id": "baeea83d",
   "metadata": {},
   "outputs": [],
   "source": [
    "# missing or NaN values in the DataFrame df with the value 0.\n",
    "df.fillna(0,inplace=True)"
   ]
  },
  {
   "cell_type": "code",
   "execution_count": 117,
   "id": "8a9d20ee",
   "metadata": {},
   "outputs": [
    {
     "data": {
      "text/plain": [
       "country               0\n",
       "date                  0\n",
       "daily_vaccinations    0\n",
       "vaccines              0\n",
       "dtype: int64"
      ]
     },
     "execution_count": 117,
     "metadata": {},
     "output_type": "execute_result"
    }
   ],
   "source": [
    "# checking missing data \n",
    "df.isnull().sum()"
   ]
  },
  {
   "cell_type": "markdown",
   "id": "a6d437a0",
   "metadata": {},
   "source": [
    "###  Question-5\n"
   ]
  },
  {
   "cell_type": "code",
   "execution_count": 15,
   "id": "04260712",
   "metadata": {},
   "outputs": [
    {
     "data": {
      "text/plain": [
       "country\n",
       "United States    378253.0\n",
       "China            276786.0\n",
       "India            173922.0\n",
       "Name: daily_vaccinations, dtype: float64"
      ]
     },
     "execution_count": 15,
     "metadata": {},
     "output_type": "execute_result"
    }
   ],
   "source": [
    "#  list the top-3 countries with highest median daily vaccination numbers \n",
    "df.groupby(\"country\")[\"daily_vaccinations\"].median().sort_values(ascending=False).head(3)"
   ]
  },
  {
   "cell_type": "markdown",
   "id": "e9e5ad24",
   "metadata": {},
   "source": [
    "### Question-6"
   ]
  },
  {
   "cell_type": "code",
   "execution_count": 22,
   "id": "49b57c47",
   "metadata": {},
   "outputs": [
    {
     "data": {
      "text/plain": [
       "1485255.0"
      ]
     },
     "execution_count": 22,
     "metadata": {},
     "output_type": "execute_result"
    }
   ],
   "source": [
    "# number of total vaccinations done on 1/6/2021 (MM/DD/YYYY)\n",
    "df[df[\"date\"] == \"1/6/2021\"][\"daily_vaccinations\"].sum()"
   ]
  },
  {
   "cell_type": "markdown",
   "id": "51c53095",
   "metadata": {},
   "source": [
    "###  Question-7"
   ]
  },
  {
   "cell_type": "code",
   "execution_count": null,
   "id": "71e6da97",
   "metadata": {},
   "outputs": [],
   "source": [
    "# SQL query to fill in the missing daily vaccination numbers with discrete median of country\n",
    "UPDATE vaccinations v1\n",
    "SET daily_vaccinations = (\n",
    "  SELECT COALESCE(MEDIAN(daily_vaccinations), 0)\n",
    "  FROM vaccinations v2\n",
    "  WHERE v1.country = v2.country AND daily_vaccinations IS NOT NULL\n",
    ")\n",
    "WHERE daily_vaccinations IS NULL;\n"
   ]
  }
 ],
 "metadata": {
  "kernelspec": {
   "display_name": "Python 3 (ipykernel)",
   "language": "python",
   "name": "python3"
  },
  "language_info": {
   "codemirror_mode": {
    "name": "ipython",
    "version": 3
   },
   "file_extension": ".py",
   "mimetype": "text/x-python",
   "name": "python",
   "nbconvert_exporter": "python",
   "pygments_lexer": "ipython3",
   "version": "3.9.12"
  }
 },
 "nbformat": 4,
 "nbformat_minor": 5
}
