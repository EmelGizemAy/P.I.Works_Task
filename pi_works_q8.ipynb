{
 "cells": [
  {
   "cell_type": "code",
   "execution_count": 1,
   "id": "f27db964",
   "metadata": {},
   "outputs": [],
   "source": [
    "# Importing the required libraries\n",
    "import pandas as pd\n",
    "import numpy as np\n",
    "import re"
   ]
  },
  {
   "cell_type": "code",
   "execution_count": 2,
   "id": "fc6b2836",
   "metadata": {},
   "outputs": [],
   "source": [
    "# creating sample link\n",
    "sample_url = \"<url>https://xcd32112.smart_meter.com</url>\""
   ]
  },
  {
   "cell_type": "code",
   "execution_count": 3,
   "id": "10720aa2",
   "metadata": {},
   "outputs": [],
   "source": [
    "# delete url part\n",
    "regex = r\"\\/\\/(.*?)<\"\n",
    "match = re.search(regex, sample_url)"
   ]
  },
  {
   "cell_type": "markdown",
   "id": "b1cebee1",
   "metadata": {},
   "source": [
    "An example URL is created and a regex (regular expression) is used to find the part of the URL between \"https://\" and \"<\". This regex is shown as \"//(.*?)<\"."
   ]
  },
  {
   "cell_type": "code",
   "execution_count": 4,
   "id": "a929db70",
   "metadata": {},
   "outputs": [],
   "source": [
    "# make all text lowercase\n",
    "without_url_text = match.group(1).lower()"
   ]
  },
  {
   "cell_type": "markdown",
   "id": "eb784156",
   "metadata": {},
   "source": [
    "Next, the lower() function is used to convert all letters in the text to lowercase."
   ]
  },
  {
   "cell_type": "code",
   "execution_count": 5,
   "id": "276bec4a",
   "metadata": {},
   "outputs": [],
   "source": [
    "# controlling alpha-numeric, case insensitive characters, underscore ( _ ) character and dot ( . ) character only.\n",
    "pattern = r\"(?i)[a-z0-9_./]+\"\n",
    "\n",
    "match2 = re.search(pattern, without_url_text)"
   ]
  },
  {
   "cell_type": "markdown",
   "id": "f9656e23",
   "metadata": {},
   "source": [
    "After that, a pattern is created using regular expressions that only accept alphanumeric characters, dot (.) character, and underscore (_) character. This pattern is shown as \"(?i)[a-z0-9./]+\"."
   ]
  },
  {
   "cell_type": "code",
   "execution_count": 6,
   "id": "a8833ff8",
   "metadata": {},
   "outputs": [
    {
     "data": {
      "text/plain": [
       "True"
      ]
     },
     "execution_count": 6,
     "metadata": {},
     "output_type": "execute_result"
    }
   ],
   "source": [
    "match.group(1) == match2.group()"
   ]
  },
  {
   "cell_type": "code",
   "execution_count": 8,
   "id": "2e20729a",
   "metadata": {},
   "outputs": [
    {
     "name": "stdout",
     "output_type": "stream",
     "text": [
      "xcd32112.smart_meter.com\n"
     ]
    }
   ],
   "source": [
    "print(match2.group())"
   ]
  }
 ],
 "metadata": {
  "kernelspec": {
   "display_name": "Python 3 (ipykernel)",
   "language": "python",
   "name": "python3"
  },
  "language_info": {
   "codemirror_mode": {
    "name": "ipython",
    "version": 3
   },
   "file_extension": ".py",
   "mimetype": "text/x-python",
   "name": "python",
   "nbconvert_exporter": "python",
   "pygments_lexer": "ipython3",
   "version": "3.9.12"
  }
 },
 "nbformat": 4,
 "nbformat_minor": 5
}
